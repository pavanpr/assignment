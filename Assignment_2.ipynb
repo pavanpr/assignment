{
 "cells": [
  {
   "cell_type": "code",
   "execution_count": 71,
   "metadata": {},
   "outputs": [
    {
     "data": {
      "text/plain": [
       "10"
      ]
     },
     "execution_count": 71,
     "metadata": {},
     "output_type": "execute_result"
    }
   ],
   "source": [
    "#Task 1:\n",
    "#Program 1.1:\n",
    "\n",
    "#my reduce function\n",
    "def my_reduce_fun(fun_name,par_list):\n",
    "    result=0\n",
    "    \n",
    "    for i in range(len(par_list)):\n",
    "        if result==0:\n",
    "            result=fun_name(par_list[i],par_list[i+1])\n",
    "        elif i!=len(par_list)-1:\n",
    "            result=fun_name(result,par_list[i+1])\n",
    "            \n",
    "    return result\n",
    "\n",
    "##\n",
    "\n",
    "def add_fun(a,b):  #function passed as parameter to my reduce function \n",
    "    return a+b;\n",
    "\n",
    "##\n",
    "\n",
    "reduce_list=[1,5,4]  #list passed as parameter to my reduce function\n",
    "\n",
    "my_reduce_fun(add_fun,reduce_list)  #Function Call\n"
   ]
  },
  {
   "cell_type": "code",
   "execution_count": 72,
   "metadata": {},
   "outputs": [
    {
     "data": {
      "text/plain": [
       "['a', 'i', 'u']"
      ]
     },
     "execution_count": 72,
     "metadata": {},
     "output_type": "execute_result"
    }
   ],
   "source": [
    "#Task 1:\n",
    "#Program 1.2:\n",
    "\n",
    "#my filter function\n",
    "def my_filter_fun(fun_name,par_list):\n",
    "    result=[]\n",
    "    \n",
    "    for alpha in par_list:\n",
    "        if find_vowel(alpha)==True:\n",
    "            result.append(alpha)\n",
    "    \n",
    "    return result\n",
    "\n",
    "##\n",
    "\n",
    "def find_vowel(param):  #function passed as parameter to my filter function \n",
    "    \n",
    "    if param in ['a','e','i','o','u']:\n",
    "        return True\n",
    "    else:\n",
    "        return False\n",
    "    \n",
    "    \n",
    "##\n",
    "\n",
    "filter_list=['a','b','c','n','q','i','u']  #list passed as parameter to my filter function\n",
    "\n",
    "my_filter_fun(find_vowel,filter_list) #Function Call\n",
    "\n"
   ]
  },
  {
   "cell_type": "code",
   "execution_count": null,
   "metadata": {},
   "outputs": [],
   "source": [
    "#Task 1:\n",
    "#Program 2:\n",
    "\n",
    "Not able to understand the input. Need help"
   ]
  },
  {
   "cell_type": "code",
   "execution_count": 79,
   "metadata": {},
   "outputs": [
    {
     "data": {
      "text/plain": [
       "'This_is_the_longestWord_in_input'"
      ]
     },
     "execution_count": 79,
     "metadata": {},
     "output_type": "execute_result"
    }
   ],
   "source": [
    "#Task 1:\n",
    "#Program 3:\n",
    "\n",
    "#Longest word Function\n",
    "def longest_word_fun(string_data):\n",
    "    \n",
    "    words=string_data.split(' ')\n",
    "    \n",
    "    longest_word=words[0]\n",
    "\n",
    "    if len(words)>1:\n",
    "        for word in words:\n",
    "            if len(longest_word)<len(word):\n",
    "                longest_word=word\n",
    "                \n",
    "    return longest_word\n",
    "##\n",
    "\n",
    "input_string='Implement a function This_is_the_longestWord_in_input that takes a list of words and returns the longest one'\n",
    "\n",
    "longest_word_fun(input_string)   #Function Call\n",
    "\n",
    "                "
   ]
  },
  {
   "cell_type": "code",
   "execution_count": 21,
   "metadata": {},
   "outputs": [
    {
     "name": "stdout",
     "output_type": "stream",
     "text": [
      "Enter value for side 1 10\n",
      "Enter value for side 2 11\n",
      "Enter value for side 3 13\n",
      "Area of Triangle  53.44155686354955\n"
     ]
    }
   ],
   "source": [
    "#Task 2:\n",
    "#Program 1.1:\n",
    "\n",
    "#Area of Triangle using Formula area = (s*(s-a)*(s-b)*(s-c)) ** 0.5\n",
    "\n",
    "#Parent Class\n",
    "class parent_triangle:\n",
    "    \n",
    "    def enter_sides_fun(self): #Function to collect sides from user\n",
    "        \n",
    "        sides=[]\n",
    "        \n",
    "        for i in range(3):\n",
    "            side=int(input(\"Enter value for side {} \".format(i+1)))\n",
    "            sides.append(side)\n",
    "            \n",
    "        return sides\n",
    "\n",
    "#Child Class\n",
    "class child_triangle(parent_triangle):\n",
    "    \n",
    "    def cal_tri_area(self):  #Function to calculate area of Triangle\n",
    "        \n",
    "        sides=parent_triangle.enter_sides_fun(self)\n",
    "        \n",
    "        a=sides[0]\n",
    "        b=sides[1]\n",
    "        c=sides[2]\n",
    "        \n",
    "        s=(a+b+c)/2\n",
    "        \n",
    "        area_of_triangle=(s*(s-a)*(s-b)*(s-c))**0.5\n",
    "        \n",
    "        return area_of_triangle\n",
    "    \n",
    "#Object_call\n",
    "\n",
    "child_object=child_triangle()\n",
    "\n",
    "print(\"Area of Triangle \",child_object.cal_tri_area())\n"
   ]
  },
  {
   "cell_type": "code",
   "execution_count": 80,
   "metadata": {},
   "outputs": [
    {
     "data": {
      "text/plain": [
       "['function', 'filter_long_words()', 'integer', 'returns']"
      ]
     },
     "execution_count": 80,
     "metadata": {},
     "output_type": "execute_result"
    }
   ],
   "source": [
    "#Task 2:\n",
    "#Program 1.2:\n",
    "\n",
    "#Filter long words Function\n",
    "def filter_long_words(string_data,length):\n",
    "    \n",
    "    words=string_data.split(' ')\n",
    "    \n",
    "    res_words_list=[]\n",
    "    \n",
    "    for word in words:\n",
    "        if len(word)>length:\n",
    "            res_words_list.append(word)\n",
    "            \n",
    "    return res_words_list\n",
    "\n",
    "##\n",
    "\n",
    "input_string='Write a function filter_long_words() that takes a list of words and an integer n and returns the list of words that are longer than n'\n",
    "\n",
    "\n",
    "filter_long_words(input_string,6)  #Function Call\n"
   ]
  },
  {
   "cell_type": "code",
   "execution_count": 83,
   "metadata": {},
   "outputs": [
    {
     "data": {
      "text/plain": [
       "[9, 1, 8, 13, 4, 5, 1, 4, 2, 5, 3, 7, 3, 7, 3]"
      ]
     },
     "execution_count": 83,
     "metadata": {},
     "output_type": "execute_result"
    }
   ],
   "source": [
    "#Task 2:\n",
    "#Program 2.1:\n",
    "\n",
    "#length of words in list function\n",
    "\n",
    "def length_word_list_fun(list_words):\n",
    "    \n",
    "    length_list=[]\n",
    "    \n",
    "    for word in list_words:\n",
    "        length_list.append(len(word))\n",
    "        \n",
    "    return length_list\n",
    "\n",
    "\n",
    "####\n",
    "\n",
    "list_of_words=['Implement','a','function','longestWord()','that','takes','a','list','of','words','and','returns','the','longest','one']\n",
    "\n",
    "length_word_list_fun(list_of_words) #Function Call\n"
   ]
  },
  {
   "cell_type": "code",
   "execution_count": 82,
   "metadata": {},
   "outputs": [
    {
     "data": {
      "text/plain": [
       "False"
      ]
     },
     "execution_count": 82,
     "metadata": {},
     "output_type": "execute_result"
    }
   ],
   "source": [
    "#Task 2:\n",
    "#Program 2.2:\n",
    "\n",
    "#Vowel Function\n",
    "def find_vowel(param):  #function passed as parameter to my filter function \n",
    "    \n",
    "    if param in ['a','e','i','o','u']:\n",
    "        return True\n",
    "    else:\n",
    "        return False\n",
    "      \n",
    "##\n",
    "\n",
    "find_vowel('b')"
   ]
  }
 ],
 "metadata": {
  "kernelspec": {
   "display_name": "Python 3",
   "language": "python",
   "name": "python3"
  },
  "language_info": {
   "codemirror_mode": {
    "name": "ipython",
    "version": 3
   },
   "file_extension": ".py",
   "mimetype": "text/x-python",
   "name": "python",
   "nbconvert_exporter": "python",
   "pygments_lexer": "ipython3",
   "version": "3.7.4"
  }
 },
 "nbformat": 4,
 "nbformat_minor": 2
}
